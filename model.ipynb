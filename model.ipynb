{
 "cells": [
  {
   "cell_type": "markdown",
   "id": "d24940b0",
   "metadata": {},
   "source": [
    "# Projeto Final de Machine Learning\n",
    "Feito por: _Henrique Bucci_ e _Marcelo Alonso_\n",
    "\n",
    "Dados e informações: https://www.kaggle.com/datasets/marcopale/housing/data"
   ]
  },
  {
   "cell_type": "markdown",
   "id": "ca61cb26",
   "metadata": {},
   "source": [
    "## Parte 0"
   ]
  },
  {
   "cell_type": "markdown",
   "id": "5c73114d",
   "metadata": {},
   "source": [
    "Utilizar LASSO para seleção de features.\n",
    "\n",
    "Regressão linear para ignorar outliers.\n",
    "\n",
    "RANSAC -> regressao linear que ignora outliers"
   ]
  },
  {
   "cell_type": "markdown",
   "id": "9fcca7c3",
   "metadata": {},
   "source": [
    "**Perguntas**  \n",
    "Posso remover o PID?  \n",
    "Quais as melhores formas de selecionar features?  \n",
    "Posso criar colunas a partir de contas de outras antes de fazer a seleção?\n",
    "Se eu aplicar PolynomialFeatures nos dados, eles também contam como features para a contagem?  \n",
    "Posso utilizar correlação na análise exploratória?  \n",
    "Posso fazer correlação entre o target e as features durante a análise?"
   ]
  },
  {
   "cell_type": "markdown",
   "id": "2b12dfc8",
   "metadata": {},
   "source": [
    "### Bibliotecas"
   ]
  },
  {
   "cell_type": "code",
   "execution_count": 1,
   "id": "c68ae709",
   "metadata": {},
   "outputs": [],
   "source": [
    "import pandas as pd\n",
    "from utils import *\n",
    "\n",
    "\n",
    "from sklearn.metrics import mean_squared_error\n",
    "from sklearn.model_selection import GridSearchCV, train_test_split\n",
    "from sklearn.dummy import DummyRegressor\n",
    "from sklearn.preprocessing import StandardScaler, PolynomialFeatures\n",
    "from sklearn.pipeline import Pipeline\n",
    "from sklearn.compose import ColumnTransformer\n",
    "from sklearn.impute import SimpleImputer\n",
    "from sklearn.preprocessing import OneHotEncoder, FunctionTransformer\n",
    "from sklearn.linear_model import LinearRegression, Lasso, Ridge, ElasticNet\n",
    "from sklearn.ensemble import RandomForestRegressor, GradientBoostingRegressor"
   ]
  },
  {
   "cell_type": "markdown",
   "id": "0c67d0ee",
   "metadata": {},
   "source": [
    "### Constantes"
   ]
  },
  {
   "cell_type": "code",
   "execution_count": 2,
   "id": "8909d65f",
   "metadata": {},
   "outputs": [],
   "source": [
    "SEED = 420"
   ]
  },
  {
   "cell_type": "markdown",
   "id": "97c79cf5",
   "metadata": {},
   "source": [
    "### Carregamento e Pré-processamento dos Dados"
   ]
  },
  {
   "cell_type": "code",
   "execution_count": 3,
   "id": "1f778711",
   "metadata": {},
   "outputs": [
    {
     "data": {
      "application/vnd.microsoft.datawrangler.viewer.v0+json": {
       "columns": [
        {
         "name": "index",
         "rawType": "int64",
         "type": "integer"
        },
        {
         "name": "Order",
         "rawType": "int64",
         "type": "integer"
        },
        {
         "name": "PID",
         "rawType": "int64",
         "type": "integer"
        },
        {
         "name": "MS.SubClass",
         "rawType": "int64",
         "type": "integer"
        },
        {
         "name": "MS.Zoning",
         "rawType": "object",
         "type": "string"
        },
        {
         "name": "Lot.Frontage",
         "rawType": "float64",
         "type": "float"
        },
        {
         "name": "Lot.Area",
         "rawType": "int64",
         "type": "integer"
        },
        {
         "name": "Street",
         "rawType": "object",
         "type": "string"
        },
        {
         "name": "Alley",
         "rawType": "object",
         "type": "unknown"
        },
        {
         "name": "Lot.Shape",
         "rawType": "object",
         "type": "string"
        },
        {
         "name": "Land.Contour",
         "rawType": "object",
         "type": "string"
        },
        {
         "name": "Utilities",
         "rawType": "object",
         "type": "string"
        },
        {
         "name": "Lot.Config",
         "rawType": "object",
         "type": "string"
        },
        {
         "name": "Land.Slope",
         "rawType": "object",
         "type": "string"
        },
        {
         "name": "Neighborhood",
         "rawType": "object",
         "type": "string"
        },
        {
         "name": "Condition.1",
         "rawType": "object",
         "type": "string"
        },
        {
         "name": "Condition.2",
         "rawType": "object",
         "type": "string"
        },
        {
         "name": "Bldg.Type",
         "rawType": "object",
         "type": "string"
        },
        {
         "name": "House.Style",
         "rawType": "object",
         "type": "string"
        },
        {
         "name": "Overall.Qual",
         "rawType": "int64",
         "type": "integer"
        },
        {
         "name": "Overall.Cond",
         "rawType": "int64",
         "type": "integer"
        },
        {
         "name": "Year.Built",
         "rawType": "int64",
         "type": "integer"
        },
        {
         "name": "Year.Remod.Add",
         "rawType": "int64",
         "type": "integer"
        },
        {
         "name": "Roof.Style",
         "rawType": "object",
         "type": "string"
        },
        {
         "name": "Roof.Matl",
         "rawType": "object",
         "type": "string"
        },
        {
         "name": "Exterior.1st",
         "rawType": "object",
         "type": "string"
        },
        {
         "name": "Exterior.2nd",
         "rawType": "object",
         "type": "string"
        },
        {
         "name": "Mas.Vnr.Type",
         "rawType": "object",
         "type": "unknown"
        },
        {
         "name": "Mas.Vnr.Area",
         "rawType": "float64",
         "type": "float"
        },
        {
         "name": "Exter.Qual",
         "rawType": "object",
         "type": "string"
        },
        {
         "name": "Exter.Cond",
         "rawType": "object",
         "type": "string"
        },
        {
         "name": "Foundation",
         "rawType": "object",
         "type": "string"
        },
        {
         "name": "Bsmt.Qual",
         "rawType": "object",
         "type": "string"
        },
        {
         "name": "Bsmt.Cond",
         "rawType": "object",
         "type": "string"
        },
        {
         "name": "Bsmt.Exposure",
         "rawType": "object",
         "type": "string"
        },
        {
         "name": "BsmtFin.Type.1",
         "rawType": "object",
         "type": "string"
        },
        {
         "name": "BsmtFin.SF.1",
         "rawType": "float64",
         "type": "float"
        },
        {
         "name": "BsmtFin.Type.2",
         "rawType": "object",
         "type": "string"
        },
        {
         "name": "BsmtFin.SF.2",
         "rawType": "float64",
         "type": "float"
        },
        {
         "name": "Bsmt.Unf.SF",
         "rawType": "float64",
         "type": "float"
        },
        {
         "name": "Total.Bsmt.SF",
         "rawType": "float64",
         "type": "float"
        },
        {
         "name": "Heating",
         "rawType": "object",
         "type": "string"
        },
        {
         "name": "Heating.QC",
         "rawType": "object",
         "type": "string"
        },
        {
         "name": "Central.Air",
         "rawType": "object",
         "type": "string"
        },
        {
         "name": "Electrical",
         "rawType": "object",
         "type": "string"
        },
        {
         "name": "X1st.Flr.SF",
         "rawType": "int64",
         "type": "integer"
        },
        {
         "name": "X2nd.Flr.SF",
         "rawType": "int64",
         "type": "integer"
        },
        {
         "name": "Low.Qual.Fin.SF",
         "rawType": "int64",
         "type": "integer"
        },
        {
         "name": "Gr.Liv.Area",
         "rawType": "int64",
         "type": "integer"
        },
        {
         "name": "Bsmt.Full.Bath",
         "rawType": "float64",
         "type": "float"
        },
        {
         "name": "Bsmt.Half.Bath",
         "rawType": "float64",
         "type": "float"
        },
        {
         "name": "Full.Bath",
         "rawType": "int64",
         "type": "integer"
        },
        {
         "name": "Half.Bath",
         "rawType": "int64",
         "type": "integer"
        },
        {
         "name": "Bedroom.AbvGr",
         "rawType": "int64",
         "type": "integer"
        },
        {
         "name": "Kitchen.AbvGr",
         "rawType": "int64",
         "type": "integer"
        },
        {
         "name": "Kitchen.Qual",
         "rawType": "object",
         "type": "string"
        },
        {
         "name": "TotRms.AbvGrd",
         "rawType": "int64",
         "type": "integer"
        },
        {
         "name": "Functional",
         "rawType": "object",
         "type": "string"
        },
        {
         "name": "Fireplaces",
         "rawType": "int64",
         "type": "integer"
        },
        {
         "name": "Fireplace.Qu",
         "rawType": "object",
         "type": "unknown"
        },
        {
         "name": "Garage.Type",
         "rawType": "object",
         "type": "string"
        },
        {
         "name": "Garage.Yr.Blt",
         "rawType": "float64",
         "type": "float"
        },
        {
         "name": "Garage.Finish",
         "rawType": "object",
         "type": "string"
        },
        {
         "name": "Garage.Cars",
         "rawType": "float64",
         "type": "float"
        },
        {
         "name": "Garage.Area",
         "rawType": "float64",
         "type": "float"
        },
        {
         "name": "Garage.Qual",
         "rawType": "object",
         "type": "string"
        },
        {
         "name": "Garage.Cond",
         "rawType": "object",
         "type": "string"
        },
        {
         "name": "Paved.Drive",
         "rawType": "object",
         "type": "string"
        },
        {
         "name": "Wood.Deck.SF",
         "rawType": "int64",
         "type": "integer"
        },
        {
         "name": "Open.Porch.SF",
         "rawType": "int64",
         "type": "integer"
        },
        {
         "name": "Enclosed.Porch",
         "rawType": "int64",
         "type": "integer"
        },
        {
         "name": "X3Ssn.Porch",
         "rawType": "int64",
         "type": "integer"
        },
        {
         "name": "Screen.Porch",
         "rawType": "int64",
         "type": "integer"
        },
        {
         "name": "Pool.Area",
         "rawType": "int64",
         "type": "integer"
        },
        {
         "name": "Pool.QC",
         "rawType": "object",
         "type": "unknown"
        },
        {
         "name": "Fence",
         "rawType": "object",
         "type": "unknown"
        },
        {
         "name": "Misc.Feature",
         "rawType": "object",
         "type": "unknown"
        },
        {
         "name": "Misc.Val",
         "rawType": "int64",
         "type": "integer"
        },
        {
         "name": "Mo.Sold",
         "rawType": "int64",
         "type": "integer"
        },
        {
         "name": "Yr.Sold",
         "rawType": "int64",
         "type": "integer"
        },
        {
         "name": "Sale.Type",
         "rawType": "object",
         "type": "string"
        },
        {
         "name": "Sale.Condition",
         "rawType": "object",
         "type": "string"
        },
        {
         "name": "SalePrice",
         "rawType": "int64",
         "type": "integer"
        }
       ],
       "conversionMethod": "pd.DataFrame",
       "ref": "d3723d8a-c73d-4fe2-8434-b7eb8e69d9de",
       "rows": [
        [
         "0",
         "1",
         "526301100",
         "20",
         "RL",
         "141.0",
         "31770",
         "Pave",
         null,
         "IR1",
         "Lvl",
         "AllPub",
         "Corner",
         "Gtl",
         "NAmes",
         "Norm",
         "Norm",
         "1Fam",
         "1Story",
         "6",
         "5",
         "1960",
         "1960",
         "Hip",
         "CompShg",
         "BrkFace",
         "Plywood",
         "Stone",
         "112.0",
         "TA",
         "TA",
         "CBlock",
         "TA",
         "Gd",
         "Gd",
         "BLQ",
         "639.0",
         "Unf",
         "0.0",
         "441.0",
         "1080.0",
         "GasA",
         "Fa",
         "Y",
         "SBrkr",
         "1656",
         "0",
         "0",
         "1656",
         "1.0",
         "0.0",
         "1",
         "0",
         "3",
         "1",
         "TA",
         "7",
         "Typ",
         "2",
         "Gd",
         "Attchd",
         "1960.0",
         "Fin",
         "2.0",
         "528.0",
         "TA",
         "TA",
         "P",
         "210",
         "62",
         "0",
         "0",
         "0",
         "0",
         null,
         null,
         null,
         "0",
         "5",
         "2010",
         "WD ",
         "Normal",
         "215000"
        ],
        [
         "1",
         "2",
         "526350040",
         "20",
         "RH",
         "80.0",
         "11622",
         "Pave",
         null,
         "Reg",
         "Lvl",
         "AllPub",
         "Inside",
         "Gtl",
         "NAmes",
         "Feedr",
         "Norm",
         "1Fam",
         "1Story",
         "5",
         "6",
         "1961",
         "1961",
         "Gable",
         "CompShg",
         "VinylSd",
         "VinylSd",
         null,
         "0.0",
         "TA",
         "TA",
         "CBlock",
         "TA",
         "TA",
         "No",
         "Rec",
         "468.0",
         "LwQ",
         "144.0",
         "270.0",
         "882.0",
         "GasA",
         "TA",
         "Y",
         "SBrkr",
         "896",
         "0",
         "0",
         "896",
         "0.0",
         "0.0",
         "1",
         "0",
         "2",
         "1",
         "TA",
         "5",
         "Typ",
         "0",
         null,
         "Attchd",
         "1961.0",
         "Unf",
         "1.0",
         "730.0",
         "TA",
         "TA",
         "Y",
         "140",
         "0",
         "0",
         "0",
         "120",
         "0",
         null,
         "MnPrv",
         null,
         "0",
         "6",
         "2010",
         "WD ",
         "Normal",
         "105000"
        ],
        [
         "2",
         "3",
         "526351010",
         "20",
         "RL",
         "81.0",
         "14267",
         "Pave",
         null,
         "IR1",
         "Lvl",
         "AllPub",
         "Corner",
         "Gtl",
         "NAmes",
         "Norm",
         "Norm",
         "1Fam",
         "1Story",
         "6",
         "6",
         "1958",
         "1958",
         "Hip",
         "CompShg",
         "Wd Sdng",
         "Wd Sdng",
         "BrkFace",
         "108.0",
         "TA",
         "TA",
         "CBlock",
         "TA",
         "TA",
         "No",
         "ALQ",
         "923.0",
         "Unf",
         "0.0",
         "406.0",
         "1329.0",
         "GasA",
         "TA",
         "Y",
         "SBrkr",
         "1329",
         "0",
         "0",
         "1329",
         "0.0",
         "0.0",
         "1",
         "1",
         "3",
         "1",
         "Gd",
         "6",
         "Typ",
         "0",
         null,
         "Attchd",
         "1958.0",
         "Unf",
         "1.0",
         "312.0",
         "TA",
         "TA",
         "Y",
         "393",
         "36",
         "0",
         "0",
         "0",
         "0",
         null,
         null,
         "Gar2",
         "12500",
         "6",
         "2010",
         "WD ",
         "Normal",
         "172000"
        ],
        [
         "3",
         "4",
         "526353030",
         "20",
         "RL",
         "93.0",
         "11160",
         "Pave",
         null,
         "Reg",
         "Lvl",
         "AllPub",
         "Corner",
         "Gtl",
         "NAmes",
         "Norm",
         "Norm",
         "1Fam",
         "1Story",
         "7",
         "5",
         "1968",
         "1968",
         "Hip",
         "CompShg",
         "BrkFace",
         "BrkFace",
         null,
         "0.0",
         "Gd",
         "TA",
         "CBlock",
         "TA",
         "TA",
         "No",
         "ALQ",
         "1065.0",
         "Unf",
         "0.0",
         "1045.0",
         "2110.0",
         "GasA",
         "Ex",
         "Y",
         "SBrkr",
         "2110",
         "0",
         "0",
         "2110",
         "1.0",
         "0.0",
         "2",
         "1",
         "3",
         "1",
         "Ex",
         "8",
         "Typ",
         "2",
         "TA",
         "Attchd",
         "1968.0",
         "Fin",
         "2.0",
         "522.0",
         "TA",
         "TA",
         "Y",
         "0",
         "0",
         "0",
         "0",
         "0",
         "0",
         null,
         null,
         null,
         "0",
         "4",
         "2010",
         "WD ",
         "Normal",
         "244000"
        ],
        [
         "4",
         "5",
         "527105010",
         "60",
         "RL",
         "74.0",
         "13830",
         "Pave",
         null,
         "IR1",
         "Lvl",
         "AllPub",
         "Inside",
         "Gtl",
         "Gilbert",
         "Norm",
         "Norm",
         "1Fam",
         "2Story",
         "5",
         "5",
         "1997",
         "1998",
         "Gable",
         "CompShg",
         "VinylSd",
         "VinylSd",
         null,
         "0.0",
         "TA",
         "TA",
         "PConc",
         "Gd",
         "TA",
         "No",
         "GLQ",
         "791.0",
         "Unf",
         "0.0",
         "137.0",
         "928.0",
         "GasA",
         "Gd",
         "Y",
         "SBrkr",
         "928",
         "701",
         "0",
         "1629",
         "0.0",
         "0.0",
         "2",
         "1",
         "3",
         "1",
         "TA",
         "6",
         "Typ",
         "1",
         "TA",
         "Attchd",
         "1997.0",
         "Fin",
         "2.0",
         "482.0",
         "TA",
         "TA",
         "Y",
         "212",
         "34",
         "0",
         "0",
         "0",
         "0",
         null,
         "MnPrv",
         null,
         "0",
         "3",
         "2010",
         "WD ",
         "Normal",
         "189900"
        ]
       ],
       "shape": {
        "columns": 82,
        "rows": 5
       }
      },
      "text/html": [
       "<div>\n",
       "<style scoped>\n",
       "    .dataframe tbody tr th:only-of-type {\n",
       "        vertical-align: middle;\n",
       "    }\n",
       "\n",
       "    .dataframe tbody tr th {\n",
       "        vertical-align: top;\n",
       "    }\n",
       "\n",
       "    .dataframe thead th {\n",
       "        text-align: right;\n",
       "    }\n",
       "</style>\n",
       "<table border=\"1\" class=\"dataframe\">\n",
       "  <thead>\n",
       "    <tr style=\"text-align: right;\">\n",
       "      <th></th>\n",
       "      <th>Order</th>\n",
       "      <th>PID</th>\n",
       "      <th>MS.SubClass</th>\n",
       "      <th>MS.Zoning</th>\n",
       "      <th>Lot.Frontage</th>\n",
       "      <th>Lot.Area</th>\n",
       "      <th>Street</th>\n",
       "      <th>Alley</th>\n",
       "      <th>Lot.Shape</th>\n",
       "      <th>Land.Contour</th>\n",
       "      <th>...</th>\n",
       "      <th>Pool.Area</th>\n",
       "      <th>Pool.QC</th>\n",
       "      <th>Fence</th>\n",
       "      <th>Misc.Feature</th>\n",
       "      <th>Misc.Val</th>\n",
       "      <th>Mo.Sold</th>\n",
       "      <th>Yr.Sold</th>\n",
       "      <th>Sale.Type</th>\n",
       "      <th>Sale.Condition</th>\n",
       "      <th>SalePrice</th>\n",
       "    </tr>\n",
       "  </thead>\n",
       "  <tbody>\n",
       "    <tr>\n",
       "      <th>0</th>\n",
       "      <td>1</td>\n",
       "      <td>526301100</td>\n",
       "      <td>20</td>\n",
       "      <td>RL</td>\n",
       "      <td>141.0</td>\n",
       "      <td>31770</td>\n",
       "      <td>Pave</td>\n",
       "      <td>NaN</td>\n",
       "      <td>IR1</td>\n",
       "      <td>Lvl</td>\n",
       "      <td>...</td>\n",
       "      <td>0</td>\n",
       "      <td>NaN</td>\n",
       "      <td>NaN</td>\n",
       "      <td>NaN</td>\n",
       "      <td>0</td>\n",
       "      <td>5</td>\n",
       "      <td>2010</td>\n",
       "      <td>WD</td>\n",
       "      <td>Normal</td>\n",
       "      <td>215000</td>\n",
       "    </tr>\n",
       "    <tr>\n",
       "      <th>1</th>\n",
       "      <td>2</td>\n",
       "      <td>526350040</td>\n",
       "      <td>20</td>\n",
       "      <td>RH</td>\n",
       "      <td>80.0</td>\n",
       "      <td>11622</td>\n",
       "      <td>Pave</td>\n",
       "      <td>NaN</td>\n",
       "      <td>Reg</td>\n",
       "      <td>Lvl</td>\n",
       "      <td>...</td>\n",
       "      <td>0</td>\n",
       "      <td>NaN</td>\n",
       "      <td>MnPrv</td>\n",
       "      <td>NaN</td>\n",
       "      <td>0</td>\n",
       "      <td>6</td>\n",
       "      <td>2010</td>\n",
       "      <td>WD</td>\n",
       "      <td>Normal</td>\n",
       "      <td>105000</td>\n",
       "    </tr>\n",
       "    <tr>\n",
       "      <th>2</th>\n",
       "      <td>3</td>\n",
       "      <td>526351010</td>\n",
       "      <td>20</td>\n",
       "      <td>RL</td>\n",
       "      <td>81.0</td>\n",
       "      <td>14267</td>\n",
       "      <td>Pave</td>\n",
       "      <td>NaN</td>\n",
       "      <td>IR1</td>\n",
       "      <td>Lvl</td>\n",
       "      <td>...</td>\n",
       "      <td>0</td>\n",
       "      <td>NaN</td>\n",
       "      <td>NaN</td>\n",
       "      <td>Gar2</td>\n",
       "      <td>12500</td>\n",
       "      <td>6</td>\n",
       "      <td>2010</td>\n",
       "      <td>WD</td>\n",
       "      <td>Normal</td>\n",
       "      <td>172000</td>\n",
       "    </tr>\n",
       "    <tr>\n",
       "      <th>3</th>\n",
       "      <td>4</td>\n",
       "      <td>526353030</td>\n",
       "      <td>20</td>\n",
       "      <td>RL</td>\n",
       "      <td>93.0</td>\n",
       "      <td>11160</td>\n",
       "      <td>Pave</td>\n",
       "      <td>NaN</td>\n",
       "      <td>Reg</td>\n",
       "      <td>Lvl</td>\n",
       "      <td>...</td>\n",
       "      <td>0</td>\n",
       "      <td>NaN</td>\n",
       "      <td>NaN</td>\n",
       "      <td>NaN</td>\n",
       "      <td>0</td>\n",
       "      <td>4</td>\n",
       "      <td>2010</td>\n",
       "      <td>WD</td>\n",
       "      <td>Normal</td>\n",
       "      <td>244000</td>\n",
       "    </tr>\n",
       "    <tr>\n",
       "      <th>4</th>\n",
       "      <td>5</td>\n",
       "      <td>527105010</td>\n",
       "      <td>60</td>\n",
       "      <td>RL</td>\n",
       "      <td>74.0</td>\n",
       "      <td>13830</td>\n",
       "      <td>Pave</td>\n",
       "      <td>NaN</td>\n",
       "      <td>IR1</td>\n",
       "      <td>Lvl</td>\n",
       "      <td>...</td>\n",
       "      <td>0</td>\n",
       "      <td>NaN</td>\n",
       "      <td>MnPrv</td>\n",
       "      <td>NaN</td>\n",
       "      <td>0</td>\n",
       "      <td>3</td>\n",
       "      <td>2010</td>\n",
       "      <td>WD</td>\n",
       "      <td>Normal</td>\n",
       "      <td>189900</td>\n",
       "    </tr>\n",
       "  </tbody>\n",
       "</table>\n",
       "<p>5 rows × 82 columns</p>\n",
       "</div>"
      ],
      "text/plain": [
       "   Order        PID  MS.SubClass MS.Zoning  Lot.Frontage  Lot.Area Street  \\\n",
       "0      1  526301100           20        RL         141.0     31770   Pave   \n",
       "1      2  526350040           20        RH          80.0     11622   Pave   \n",
       "2      3  526351010           20        RL          81.0     14267   Pave   \n",
       "3      4  526353030           20        RL          93.0     11160   Pave   \n",
       "4      5  527105010           60        RL          74.0     13830   Pave   \n",
       "\n",
       "  Alley Lot.Shape Land.Contour  ... Pool.Area Pool.QC  Fence Misc.Feature  \\\n",
       "0   NaN       IR1          Lvl  ...         0     NaN    NaN          NaN   \n",
       "1   NaN       Reg          Lvl  ...         0     NaN  MnPrv          NaN   \n",
       "2   NaN       IR1          Lvl  ...         0     NaN    NaN         Gar2   \n",
       "3   NaN       Reg          Lvl  ...         0     NaN    NaN          NaN   \n",
       "4   NaN       IR1          Lvl  ...         0     NaN  MnPrv          NaN   \n",
       "\n",
       "  Misc.Val Mo.Sold Yr.Sold Sale.Type  Sale.Condition  SalePrice  \n",
       "0        0       5    2010       WD           Normal     215000  \n",
       "1        0       6    2010       WD           Normal     105000  \n",
       "2    12500       6    2010       WD           Normal     172000  \n",
       "3        0       4    2010       WD           Normal     244000  \n",
       "4        0       3    2010       WD           Normal     189900  \n",
       "\n",
       "[5 rows x 82 columns]"
      ]
     },
     "execution_count": 3,
     "metadata": {},
     "output_type": "execute_result"
    }
   ],
   "source": [
    "dataset = load_data()\n",
    "dataset.head()"
   ]
  },
  {
   "cell_type": "code",
   "execution_count": 4,
   "id": "a78881e5",
   "metadata": {},
   "outputs": [],
   "source": [
    "\"\"\"\n",
    "Como a primeira coluna é o ID da observação, podemos removê-la, uma vez que estes são valores arbitrários.\n",
    "\"\"\"\n",
    "dataset = dataset.iloc[:, 1:] # Estamos removendo as duas primeiras colunas, que são o ID e o PID (Parcel identification number)"
   ]
  },
  {
   "cell_type": "markdown",
   "id": "59767f97",
   "metadata": {},
   "source": [
    "### Train-Test Split"
   ]
  },
  {
   "cell_type": "code",
   "execution_count": 8,
   "id": "3bafc8fb",
   "metadata": {},
   "outputs": [],
   "source": [
    "X, y = dataset.iloc[:, :-1], dataset.iloc[:, -1]"
   ]
  },
  {
   "cell_type": "code",
   "execution_count": 9,
   "id": "e4c82b90",
   "metadata": {},
   "outputs": [],
   "source": [
    "x_train, x_test, y_train, y_test = train_test_split(X, y, test_size=0.2, random_state=SEED)"
   ]
  },
  {
   "cell_type": "markdown",
   "id": "9aafaedf",
   "metadata": {},
   "source": [
    "# Parte 1"
   ]
  },
  {
   "cell_type": "markdown",
   "id": "299437b7",
   "metadata": {},
   "source": [
    "### Análise Exploratória\n",
    "\n",
    "Nesta parte, iremos fazer uma análise global dos dados, apenas para garantir a integridade destes.  \n",
    "Assim sendo, iremos procurar entender quais são as features e target, quais são seus respectivos tipos e buscar outras informações como:\n",
    "- Dados nulos\n",
    "- Dados duplicados\n",
    "- Outliers\n",
    "- Spikes\n",
    "- Erros grosseiros\n",
    "\n",
    "Além disso, iremos buscar saber a distribuição e a \"cara\" de cada variável."
   ]
  },
  {
   "cell_type": "code",
   "execution_count": null,
   "id": "0b458040",
   "metadata": {},
   "outputs": [],
   "source": [
    "dataset.info()"
   ]
  },
  {
   "cell_type": "code",
   "execution_count": null,
   "id": "92f13ba7",
   "metadata": {},
   "outputs": [],
   "source": [
    "n_bins = np.floor(np.sqrt(dataset.shape[0])).astype(int).item()\n",
    "\n",
    "result = dataset \\\n",
    "    .select_dtypes(include='number') \\\n",
    "    .hist(bins=n_bins, figsize=(20, 15))\n",
    "\n",
    "for subplot in result.flatten():\n",
    "    column = subplot.get_title()\n",
    "    if not column:\n",
    "        continue\n",
    "    subplot.set_ylabel('Frequência')\n",
    "\n",
    "plt.show()"
   ]
  },
  {
   "cell_type": "code",
   "execution_count": null,
   "id": "b4742dbb",
   "metadata": {},
   "outputs": [],
   "source": [
    "corr = dataset.select_dtypes(include='number').corr()\n",
    "# sns.heatmap(corr, annot=True, cmap='coolwarm', fmt='.2f')\n",
    "# plt.title('Correlation Heatmap')"
   ]
  },
  {
   "cell_type": "code",
   "execution_count": null,
   "id": "de6ec6eb",
   "metadata": {},
   "outputs": [],
   "source": []
  },
  {
   "cell_type": "markdown",
   "id": "855aaf9e",
   "metadata": {},
   "source": [
    "## Parte 5"
   ]
  },
  {
   "cell_type": "markdown",
   "id": "13a0b90d",
   "metadata": {},
   "source": [
    "Seleção de modelos com GridSearchCV"
   ]
  },
  {
   "cell_type": "code",
   "execution_count": null,
   "id": "315830cf",
   "metadata": {},
   "outputs": [],
   "source": [
    "param_grid = [{\n",
    "    'regressor' : [LinearRegression(), DummyRegressor()],\n",
    "}, {\n",
    "    'regressor': [Lasso(), Ridge()],\n",
    "    'alpha': [0.1, 1, 10, 100],\n",
    "}, {\n",
    "    'regressor': [ElasticNet()],\n",
    "    'alpha': [0.1, 1, 10, 100],\n",
    "    'l1_ratio': [0.1, 0.5, 0.9]\n",
    "}, {\n",
    "    'regressor': [RandomForestRegressor()],\n",
    "    'n_estimators': [10, 50, 100],\n",
    "    'max_depth': [None, 10, 20, 30],\n",
    "    'min_samples_split': [2, 5, 10]\n",
    "}, {\n",
    "    'regressor': [GradientBoostingRegressor()],\n",
    "    'n_estimators': [10, 50, 100],\n",
    "    'learning_rate': [0.01, 0.1, 0.2],\n",
    "    'max_depth': [3, 5, 7]\n",
    "}]"
   ]
  }
 ],
 "metadata": {
  "kernelspec": {
   "display_name": ".venv",
   "language": "python",
   "name": "python3"
  },
  "language_info": {
   "codemirror_mode": {
    "name": "ipython",
    "version": 3
   },
   "file_extension": ".py",
   "mimetype": "text/x-python",
   "name": "python",
   "nbconvert_exporter": "python",
   "pygments_lexer": "ipython3",
   "version": "3.13.3"
  }
 },
 "nbformat": 4,
 "nbformat_minor": 5
}
